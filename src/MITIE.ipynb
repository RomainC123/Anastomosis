{
 "cells": [
  {
   "cell_type": "code",
   "execution_count": 2,
   "id": "89b3f703",
   "metadata": {},
   "outputs": [],
   "source": [
    "#!/usr/bin/python\n",
    "#\n",
    "#   This example shows how to use the MITIE Python API to train a binary_relation_detector.\n",
    "#\n",
    "import sys, os\n",
    "# Make sure you put the mitielib folder into the python search path.  There are\n",
    "# a lot of ways to do this, here we do it programmatically with the following\n",
    "# two statements:\n",
    "# parent = os.path.dirname(os.path.realpath(__file__))\n",
    "# sys.path.append(parent + '/../../mitielib')\n",
    "\n",
    "from mitie import *"
   ]
  },
  {
   "cell_type": "code",
   "execution_count": 4,
   "id": "8ef99059",
   "metadata": {},
   "outputs": [
    {
     "name": "stderr",
     "output_type": "stream",
     "text": [
      "Error in opening MITIE model file: ../../MITIE-models/english/ner_model.dat\n",
      "Unable to open ../../MITIE-models/english/ner_model.dat for reading.\n",
      "Error loading MITIE model file: ../../MITIE-models/english/ner_model.dat\n",
      "Unable to open ../../MITIE-models/english/ner_model.dat for reading.\n"
     ]
    },
    {
     "ename": "Exception",
     "evalue": "Unable to load named entity extractor from ../../MITIE-models/english/ner_model.dat",
     "output_type": "error",
     "traceback": [
      "\u001b[0;31m---------------------------------------------------------------------------\u001b[0m",
      "\u001b[0;31mException\u001b[0m                                 Traceback (most recent call last)",
      "Input \u001b[0;32mIn [4]\u001b[0m, in \u001b[0;36m<cell line: 3>\u001b[0;34m()\u001b[0m\n\u001b[1;32m      1\u001b[0m \u001b[38;5;66;03m# The training process for a binary relation detector requires a MITIE NER object as\u001b[39;00m\n\u001b[1;32m      2\u001b[0m \u001b[38;5;66;03m# input.  So we load the saved NER model first.\u001b[39;00m\n\u001b[0;32m----> 3\u001b[0m ner \u001b[38;5;241m=\u001b[39m \u001b[43mnamed_entity_extractor\u001b[49m\u001b[43m(\u001b[49m\u001b[38;5;124;43m\"\u001b[39;49m\u001b[38;5;124;43m../../MITIE-models/english/ner_model.dat\u001b[39;49m\u001b[38;5;124;43m\"\u001b[39;49m\u001b[43m)\u001b[49m\n\u001b[1;32m      5\u001b[0m \u001b[38;5;66;03m# This object is responsible for doing the training work.  The first argument to the\u001b[39;00m\n\u001b[1;32m      6\u001b[0m \u001b[38;5;66;03m# constructor is a string that is used to identify the relation detector.  So you\u001b[39;00m\n\u001b[1;32m      7\u001b[0m \u001b[38;5;66;03m# should put some informative string here.  In this case, we use the name of one of\u001b[39;00m\n\u001b[1;32m      8\u001b[0m \u001b[38;5;66;03m# the freebase relations.  That is, the \"person born-in location\" relation.\u001b[39;00m\n\u001b[1;32m      9\u001b[0m trainer \u001b[38;5;241m=\u001b[39m binary_relation_detector_trainer(\u001b[38;5;124m\"\u001b[39m\u001b[38;5;124mpeople.person.place_of_birth\u001b[39m\u001b[38;5;124m\"\u001b[39m, ner)\n",
      "File \u001b[0;32m~/anaconda3/envs/Anastomo_NER/lib/python3.10/site-packages/mitie/mitie.py:247\u001b[0m, in \u001b[0;36mnamed_entity_extractor.__init__\u001b[0;34m(self, filename, fe_filename)\u001b[0m\n\u001b[1;32m    244\u001b[0m         \u001b[38;5;28mself\u001b[39m\u001b[38;5;241m.\u001b[39m__obj \u001b[38;5;241m=\u001b[39m _f\u001b[38;5;241m.\u001b[39mmitie_load_named_entity_extractor(filename)\n\u001b[1;32m    246\u001b[0m \u001b[38;5;28;01mif\u001b[39;00m \u001b[38;5;28mself\u001b[39m\u001b[38;5;241m.\u001b[39m__obj \u001b[38;5;129;01mis\u001b[39;00m \u001b[38;5;28;01mNone\u001b[39;00m:\n\u001b[0;32m--> 247\u001b[0m     \u001b[38;5;28;01mraise\u001b[39;00m \u001b[38;5;167;01mException\u001b[39;00m(\u001b[38;5;124m\"\u001b[39m\u001b[38;5;124mUnable to load named entity extractor from \u001b[39m\u001b[38;5;124m\"\u001b[39m \u001b[38;5;241m+\u001b[39m to_default_str_type(filename))\n",
      "\u001b[0;31mException\u001b[0m: Unable to load named entity extractor from ../../MITIE-models/english/ner_model.dat"
     ]
    }
   ],
   "source": [
    "# The training process for a binary relation detector requires a MITIE NER object as\n",
    "# input.  So we load the saved NER model first.\n",
    "ner = named_entity_extractor(\"../../MITIE-models/english/ner_model.dat\")\n",
    "\n",
    "# This object is responsible for doing the training work.  The first argument to the\n",
    "# constructor is a string that is used to identify the relation detector.  So you\n",
    "# should put some informative string here.  In this case, we use the name of one of\n",
    "# the freebase relations.  That is, the \"person born-in location\" relation.\n",
    "trainer = binary_relation_detector_trainer(\"people.person.place_of_birth\", ner)\n",
    "\n",
    "# When you train this kind of algorithm, you need to create a set of training\n",
    "# examples.  This dataset should include examples of the binary relations you would\n",
    "# like to detect as well as examples of things that are not what you want to detect.\n",
    "# To keep this little tutorial simple, we will use just the sentence \"Ben Franklin was born in Boston\" \n",
    "# as training data, but note that for real applications you will likely require\n",
    "# many thousands of examples to create a high quality relation detector.\n",
    "#\n",
    "# So here we create a tokenized version of that sentence.  \n",
    "sentence = [\"Ben\", \"Franklin\", \"was\", \"born\", \"in\", \"Boston\"]\n",
    "# Tell the trainer that \"Ben Franklin\" was born in the location \"Boston\".  The\n",
    "# first xrange argument indicates where the person's name is and the second\n",
    "# xrange indicates the location they were born in.\n",
    "trainer.add_positive_binary_relation(sentence, xrange(0,2), xrange(5,6))  \n",
    "\n",
    "# You should also give some negative examples.  Here we give a single negative where\n",
    "# we keep the same sentence but flip the named entity arguments.  So this is telling\n",
    "# the trainer that it is not true that Boston was born in Ben Franklin.\n",
    "trainer.add_negative_binary_relation(sentence, xrange(5,6), xrange(0,2))\n",
    "\n",
    "# Again, note that you need much more training data than this to make high quality\n",
    "# relation detectors.  We use just this small amount here to keep the example program\n",
    "# simple.\n",
    "\n",
    "# This call runs the actual trainer based on all the training data.  It might take a\n",
    "# while to run so be patient.\n",
    "rel_detector = trainer.train()\n",
    "\n",
    "# Once finished, we can save the relation detector to disk like so.  This will allow \n",
    "# you to use a statement like:\n",
    "#   rel_detector = binary_relation_detector(\"rel_classifier.svm\") \n",
    "# to read the detector later on.\n",
    "rel_detector.save_to_disk(\"rel_classifier.svm\")\n",
    "\n",
    "\n",
    "\n",
    "# Now let's test it out a little bit.  \n",
    "\n",
    "# Was Ben Franklin born in Boson?  If the score is > 0 then the\n",
    "# binary_relation_detector is predicting that he was.  In this case, the number is\n",
    "# positive so the detector made the right decision.\n",
    "print (\"detection score:\", rel_detector(ner.extract_binary_relation(sentence, xrange(0,2), xrange(5,6))))\n",
    "\n",
    "# Now let's try a different sentence\n",
    "sentence = [\"Jimmy\", \"Smith\", \",\", \"a\", \"guy\", \"raised\", \"in\", \"France\"]\n",
    "# Was Jimmy Smith born in France?  Again, the detector correctly gives a number > 0.\n",
    "print (\"detection score:\", rel_detector(ner.extract_binary_relation(sentence, xrange(0,2), xrange(7,8))))\n",
    "# Now let's ask if France was born in Jimmy Smith.  This should be false and happily\n",
    "# the detector also correctly predicts a number < 0.\n",
    "print (\"detection score:\", rel_detector(ner.extract_binary_relation(sentence, xrange(7,8), xrange(0,2))))"
   ]
  },
  {
   "cell_type": "code",
   "execution_count": null,
   "id": "590436cd",
   "metadata": {},
   "outputs": [],
   "source": []
  }
 ],
 "metadata": {
  "kernelspec": {
   "display_name": "Python 3 (ipykernel)",
   "language": "python",
   "name": "python3"
  },
  "language_info": {
   "codemirror_mode": {
    "name": "ipython",
    "version": 3
   },
   "file_extension": ".py",
   "mimetype": "text/x-python",
   "name": "python",
   "nbconvert_exporter": "python",
   "pygments_lexer": "ipython3",
   "version": "3.10.4"
  }
 },
 "nbformat": 4,
 "nbformat_minor": 5
}
