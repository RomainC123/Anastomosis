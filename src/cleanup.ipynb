{
 "cells": [
  {
   "cell_type": "code",
   "execution_count": 1,
   "id": "1b51f1f2",
   "metadata": {},
   "outputs": [],
   "source": [
    "import os\n",
    "import pandas as pd\n",
    "import pymysql\n",
    "\n",
    "from tqdm.auto import tqdm\n",
    "\n",
    "from constants import *"
   ]
  },
  {
   "cell_type": "code",
   "execution_count": 2,
   "id": "3cd4180a",
   "metadata": {},
   "outputs": [],
   "source": [
    "class umls_lookup():\n",
    "    \n",
    "    def __init__(self):\n",
    "        \n",
    "        self.db = pymysql.connect(host=\"localhost\", user=\"umls_lookup\", password=\"passw@rd\", database=\"2022aa\")\n",
    "        self.cursor = self.db.cursor()\n",
    "    \n",
    "    def close(self):\n",
    "        self.db.close()\n",
    "    \n",
    "    def get_rel(self, CUI1, CUI2):\n",
    "        query = f\"SELECT * from MRREL where CUI1='{CUI1}' and CUI2='{CUI2}'\"\n",
    "        self.cursor.execute(query)\n",
    "        results = self.cursor.fetchall()\n",
    "        cols = self.cursor.description\n",
    "        list_cols = []\n",
    "        for i in range(len(cols)):\n",
    "            list_cols.append(cols[i][0])\n",
    "        good_rel = []\n",
    "        for row in results:\n",
    "            # ID\n",
    "            AUI1 = row[list_cols.index('AUI1')]\n",
    "            if not AUI1:\n",
    "                AUI1 = \"        \"\n",
    "            AUI2 = row[list_cols.index('AUI2')]\n",
    "            if not AUI2:\n",
    "                AUI2 = \"        \"\n",
    "            CUI1 = row[list_cols.index('CUI1')]\n",
    "            if not CUI1:\n",
    "                CUI1 = \"        \"\n",
    "            CUI2 = row[list_cols.index('CUI2')]\n",
    "            if not CUI2:\n",
    "                CUI2 = \"        \"\n",
    "            REL = row[list_cols.index('REL')]\n",
    "        \n",
    "            good_rel.append({\"AUI1\": AUI1, \"CUI1\": CUI1, \"AUI2\": AUI2, \"CUI2\": CUI2, \"REL\": REL})\n",
    "        \n",
    "        return good_rel"
   ]
  },
  {
   "cell_type": "code",
   "execution_count": 8,
   "id": "9bc2e15c",
   "metadata": {
    "scrolled": true
   },
   "outputs": [
    {
     "data": {
      "application/vnd.jupyter.widget-view+json": {
       "model_id": "0a60aa6debaf441f848b22bd2170d641",
       "version_major": 2,
       "version_minor": 0
      },
      "text/plain": [
       "  0%|          | 0/701 [00:00<?, ?it/s]"
      ]
     },
     "metadata": {},
     "output_type": "display_data"
    }
   ],
   "source": [
    "MAX_DIST = 20\n",
    "\n",
    "with open(os.path.join(ROOT_PATH, \"data\", \"2021AB_SN\", \"SRSTRE1\")) as f:\n",
    "    umls_relations_df = pd.read_csv(f, delimiter='|', names=[\"FirstTUI\", \"RelationTUI\", \"EndTUI\"], index_col=False)\n",
    "\n",
    "\n",
    "def get_UMLS_score(StartTUI, EndTUI, umls_relations_df):\n",
    "    return len(umls_relations_df[\"RelationTUI\"].loc[umls_relations_df[\"FirstTUI\"]\n",
    "                                                    == StartTUI].loc[umls_relations_df[\"EndTUI\"] == EndTUI])\n",
    "\n",
    "good_rel_full = []\n",
    "umls_l = umls_lookup()\n",
    "\n",
    "for filename in tqdm(os.listdir(ENTITIES_PATH)):\n",
    "    \n",
    "    with open(os.path.join(ENTITIES_PATH, filename), \"r\") as f:\n",
    "        entities_df = pd.read_csv(f).drop(\"Unnamed: 0\", axis=1)\n",
    "\n",
    "    possible_relations_dicts = []\n",
    "\n",
    "    for i in range(len(entities_df)):\n",
    "        forward_df = entities_df.iloc[i + 1:].loc[entities_df[\"Sentence\"] == entities_df.iloc[i][\"Sentence\"]]\n",
    "        valid_relations = forward_df.loc[(forward_df[\"EndWord\"] <= entities_df[\"StartWord\"].iloc[i] + MAX_DIST) & (forward_df[\"Word\"] != entities_df.iloc[i][\"Word\"])]\n",
    "        for j in range(len(valid_relations)):\n",
    "            if entities_df.iloc[i][\"Word\"] != entities_df.iloc[j][\"Word\"]:\n",
    "                possible_relations_dicts.append({\"First\": i,\n",
    "                                                 \"End\": i + j + 1,\n",
    "                                                 \"FirstWord\": entities_df.iloc[i][\"Word\"],\n",
    "                                                 \"EndWord\": valid_relations.iloc[j][\"Word\"],\n",
    "                                                 \"FirstCUI\": entities_df.iloc[i][\"CUI\"],\n",
    "                                                 \"EndCUI\": valid_relations.iloc[j][\"CUI\"],\n",
    "                                                 \"Distance\": valid_relations.iloc[j][\"StartWord\"] - entities_df.iloc[i][\"EndWord\"],\n",
    "                                                 \"ScoreUMLS\": get_UMLS_score(entities_df.iloc[i][\"TUI\"], entities_df.iloc[j][\"TUI\"], umls_relations_df)})\n",
    "    \n",
    "    for p_rel in possible_relations_dicts:\n",
    "        possible_labels = []\n",
    "        good_rel = umls_l.get_rel(p_rel[\"FirstCUI\"], p_rel[\"EndCUI\"])\n",
    "        if good_rel:\n",
    "            for rel in good_rel:\n",
    "                possible_labels.append(rel['REL'])\n",
    "            total_labels = list(set(possible_labels))\n",
    "            for label in total_labels:\n",
    "                new_good_rel = p_rel.copy()\n",
    "                new_good_rel[\"Label\"] = label\n",
    "                good_rel_full.append(new_good_rel)\n",
    "\n",
    "good_rel_df = pd.DataFrame(good_rel_full)\n",
    "with open(\"relations_full.csv\", \"w\") as f:\n",
    "    good_rel_df.to_csv(f)"
   ]
  },
  {
   "cell_type": "code",
   "execution_count": null,
   "id": "99f734e4",
   "metadata": {},
   "outputs": [],
   "source": []
  }
 ],
 "metadata": {
  "kernelspec": {
   "display_name": "Python 3 (ipykernel)",
   "language": "python",
   "name": "python3"
  },
  "language_info": {
   "codemirror_mode": {
    "name": "ipython",
    "version": 3
   },
   "file_extension": ".py",
   "mimetype": "text/x-python",
   "name": "python",
   "nbconvert_exporter": "python",
   "pygments_lexer": "ipython3",
   "version": "3.10.4"
  }
 },
 "nbformat": 4,
 "nbformat_minor": 5
}
